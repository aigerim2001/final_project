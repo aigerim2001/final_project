{
 "cells": [
  {
   "cell_type": "code",
   "execution_count": 1,
   "metadata": {},
   "outputs": [],
   "source": [
    "# required libs\n",
    "from bs4 import BeautifulSoup\n",
    "import requests\n",
    "import pandas as pd\n",
    "import numpy as np\n",
    "import glob\n",
    "import csv "
   ]
  },
  {
   "cell_type": "markdown",
   "metadata": {},
   "source": [
    "Data collecting and storing"
   ]
  },
  {
   "cell_type": "code",
   "execution_count": 2,
   "metadata": {},
   "outputs": [
    {
     "name": "stdout",
     "output_type": "stream",
     "text": [
      "Requirement already satisfied: pytrends in c:\\users\\tolen\\anaconda3\\lib\\site-packages (4.7.3)\n",
      "Requirement already satisfied: lxml in c:\\users\\tolen\\anaconda3\\lib\\site-packages (from pytrends) (4.5.0)\n",
      "Requirement already satisfied: requests in c:\\users\\tolen\\anaconda3\\lib\\site-packages (from pytrends) (2.22.0)\n",
      "Requirement already satisfied: pandas>=0.25 in c:\\users\\tolen\\anaconda3\\lib\\site-packages (from pytrends) (1.0.1)\n",
      "Requirement already satisfied: idna<2.9,>=2.5 in c:\\users\\tolen\\anaconda3\\lib\\site-packages (from requests->pytrends) (2.8)\n",
      "Requirement already satisfied: chardet<3.1.0,>=3.0.2 in c:\\users\\tolen\\anaconda3\\lib\\site-packages (from requests->pytrends) (3.0.4)\n",
      "Requirement already satisfied: certifi>=2017.4.17 in c:\\users\\tolen\\anaconda3\\lib\\site-packages (from requests->pytrends) (2019.11.28)\n",
      "Requirement already satisfied: urllib3!=1.25.0,!=1.25.1,<1.26,>=1.21.1 in c:\\users\\tolen\\anaconda3\\lib\\site-packages (from requests->pytrends) (1.25.8)\n",
      "Requirement already satisfied: numpy>=1.13.3 in c:\\users\\tolen\\anaconda3\\lib\\site-packages (from pandas>=0.25->pytrends) (1.18.1)\n",
      "Requirement already satisfied: pytz>=2017.2 in c:\\users\\tolen\\anaconda3\\lib\\site-packages (from pandas>=0.25->pytrends) (2019.3)\n",
      "Requirement already satisfied: python-dateutil>=2.6.1 in c:\\users\\tolen\\anaconda3\\lib\\site-packages (from pandas>=0.25->pytrends) (2.8.1)\n",
      "Requirement already satisfied: six>=1.5 in c:\\users\\tolen\\anaconda3\\lib\\site-packages (from python-dateutil>=2.6.1->pandas>=0.25->pytrends) (1.14.0)\n"
     ]
    }
   ],
   "source": [
    "!pip install pytrends\n",
    "\n",
    "from pytrends.request import TrendReq\n",
    "\n",
    "pytrends = TrendReq(hl='en-US', tz=360)"
   ]
  },
  {
   "cell_type": "code",
   "execution_count": 45,
   "metadata": {},
   "outputs": [
    {
     "name": "stdout",
     "output_type": "stream",
     "text": [
      "['AF', 'AX', 'AL', 'DZ', 'AS', 'AD', 'AO', 'AI', 'AQ', 'AG', 'AR', 'AM', 'AW', 'AU', 'AT', 'AZ', 'BS', 'BH', 'BD', 'BB', 'BY', 'BE', 'BZ', 'BJ', 'BM', 'BT', 'BO', 'BQ', 'BA', 'BW', 'BV', 'BR', 'IO', 'VG', 'BN', 'BG', 'BF', 'BI', 'KH', 'CM', 'CA', 'CV', 'KY', 'CF', 'TD', 'CL', 'CN', 'CX', 'CC', 'CO', 'KM', 'CK', 'CR', 'HR', 'CU', 'CW', 'CY', 'CZ', 'CD', 'DK', 'DJ', 'DM', 'DO', 'TL', 'EC', 'EG', 'SV', 'GQ', 'ER', 'EE', 'ET', 'FK', 'FO', 'FJ', 'FI', 'FR', 'GF', 'PF', 'TF', 'GA', 'GM', 'GE', 'DE', 'GH', 'GI', 'GR', 'GL', 'GD', 'GP', 'GU', 'GT', 'GG', 'GN', 'GW', 'GY', 'HT', 'HM', 'HN', 'HK', 'HU', 'IS', 'IN', 'ID', 'IR', 'IQ', 'IE', 'IM', 'IL', 'IT', 'CI', 'JM', 'JP', 'JE', 'JO', 'KZ', 'KE', 'KI', 'XK', 'KW', 'KG', 'LA', 'LV', 'LB', 'LS', 'LR', 'LY', 'LI', 'LT', 'LU', 'MO', 'MK', 'MG', 'MW', 'MY', 'MV', 'ML', 'MT', 'MH', 'MQ', 'MR', 'MU', 'YT', 'MX', 'FM', 'MD', 'MC', 'MN', 'ME', 'MS', 'MA', 'MZ', 'MM', 'NA', 'NR', 'NP', 'NL', 'AN', 'NC', 'NZ', 'NI', 'NE', 'NG', 'NU', 'NF', 'KP', 'MP', 'NO', 'OM', 'PK', 'PW', 'PS', 'PA', 'PG', 'PY', 'PE', 'PH', 'PN', 'PL', 'PT', 'PR', 'QA', 'CG', 'RE', 'RO', 'RU', 'RW', 'BL', 'SH', 'KN', 'LC', 'MF', 'PM', 'VC', 'WS', 'SM', 'ST', 'SA', 'SN', 'RS', 'CS', 'SC', 'SL', 'SG', 'SX', 'SK', 'SI', 'SB', 'SO', 'ZA', 'GS', 'KR', 'SS', 'ES', 'LK', 'SD', 'SR', 'SJ', 'SZ', 'SE', 'CH', 'SY', 'TW', 'TJ', 'TZ', 'TH', 'TG', 'TK', 'TO', 'TT', 'TN', 'TR', 'TM', 'TC', 'TV', 'VI', 'UG', 'UA', 'AE', 'GB', 'US', 'UM', 'UY', 'UZ', 'VU', 'VA', 'VE', 'VN', 'WF', 'EH', 'YE', 'ZM', 'ZW']\n",
      "252\n"
     ]
    }
   ],
   "source": [
    "#Brought out two-letter country codes\n",
    "response = requests.get('https://laendercode.net/en/2-letter-list.html')\n",
    "response.encoding ='utf8'\n",
    "page = BeautifulSoup(response.text, 'html.parser')\n",
    "h = page.find_all('h4',class_ = 'margin-clear')\n",
    "geos =[]\n",
    "for i in range(len(h)):\n",
    "    geos.append(h[i].text)\n",
    "print(geos)\n",
    "print(len(geos))"
   ]
  },
  {
   "cell_type": "code",
   "execution_count": 4,
   "metadata": {},
   "outputs": [],
   "source": [
    "def get_top(date, geo):\n",
    "    data = pytrends.top_charts(date, hl='en-US', tz=300, geo=geo)\n",
    "    data.drop('exploreQuery', axis=1, inplace= True)\n",
    "    data['date'] = date\n",
    "    data['geo'] = geo\n",
    "    data['rating'] = range(1,11)\n",
    "    return data"
   ]
  },
  {
   "cell_type": "code",
   "execution_count": 7,
   "metadata": {},
   "outputs": [],
   "source": [
    "for geo in geos:\n",
    "    for date in range(2005,2022):\n",
    "        try:\n",
    "            get_top(date,geo).to_csv(f'google_data/{geo}_{date}.csv')\n",
    "        except:\n",
    "            pass"
   ]
  },
  {
   "cell_type": "code",
   "execution_count": 46,
   "metadata": {},
   "outputs": [
    {
     "data": {
      "text/html": [
       "<div>\n",
       "<style scoped>\n",
       "    .dataframe tbody tr th:only-of-type {\n",
       "        vertical-align: middle;\n",
       "    }\n",
       "\n",
       "    .dataframe tbody tr th {\n",
       "        vertical-align: top;\n",
       "    }\n",
       "\n",
       "    .dataframe thead th {\n",
       "        text-align: right;\n",
       "    }\n",
       "</style>\n",
       "<table border=\"1\" class=\"dataframe\">\n",
       "  <thead>\n",
       "    <tr style=\"text-align: right;\">\n",
       "      <th></th>\n",
       "      <th>title</th>\n",
       "      <th>date</th>\n",
       "      <th>geo</th>\n",
       "      <th>rating</th>\n",
       "    </tr>\n",
       "  </thead>\n",
       "  <tbody>\n",
       "    <tr>\n",
       "      <th>0</th>\n",
       "      <td>타노스</td>\n",
       "      <td>2019</td>\n",
       "      <td>KR</td>\n",
       "      <td>1</td>\n",
       "    </tr>\n",
       "    <tr>\n",
       "      <th>1</th>\n",
       "      <td>정준영</td>\n",
       "      <td>2019</td>\n",
       "      <td>KR</td>\n",
       "      <td>2</td>\n",
       "    </tr>\n",
       "    <tr>\n",
       "      <th>2</th>\n",
       "      <td>설리</td>\n",
       "      <td>2019</td>\n",
       "      <td>KR</td>\n",
       "      <td>3</td>\n",
       "    </tr>\n",
       "    <tr>\n",
       "      <th>3</th>\n",
       "      <td>SKY 캐슬</td>\n",
       "      <td>2019</td>\n",
       "      <td>KR</td>\n",
       "      <td>4</td>\n",
       "    </tr>\n",
       "    <tr>\n",
       "      <th>4</th>\n",
       "      <td>한글날</td>\n",
       "      <td>2019</td>\n",
       "      <td>KR</td>\n",
       "      <td>5</td>\n",
       "    </tr>\n",
       "    <tr>\n",
       "      <th>5</th>\n",
       "      <td>황하나</td>\n",
       "      <td>2019</td>\n",
       "      <td>KR</td>\n",
       "      <td>6</td>\n",
       "    </tr>\n",
       "    <tr>\n",
       "      <th>6</th>\n",
       "      <td>고유정</td>\n",
       "      <td>2019</td>\n",
       "      <td>KR</td>\n",
       "      <td>7</td>\n",
       "    </tr>\n",
       "    <tr>\n",
       "      <th>7</th>\n",
       "      <td>조국</td>\n",
       "      <td>2019</td>\n",
       "      <td>KR</td>\n",
       "      <td>8</td>\n",
       "    </tr>\n",
       "    <tr>\n",
       "      <th>8</th>\n",
       "      <td>호텔 델루나</td>\n",
       "      <td>2019</td>\n",
       "      <td>KR</td>\n",
       "      <td>9</td>\n",
       "    </tr>\n",
       "    <tr>\n",
       "      <th>9</th>\n",
       "      <td>원펀맨 2기</td>\n",
       "      <td>2019</td>\n",
       "      <td>KR</td>\n",
       "      <td>10</td>\n",
       "    </tr>\n",
       "  </tbody>\n",
       "</table>\n",
       "</div>"
      ],
      "text/plain": [
       "    title  date geo  rating\n",
       "0     타노스  2019  KR       1\n",
       "1     정준영  2019  KR       2\n",
       "2      설리  2019  KR       3\n",
       "3  SKY 캐슬  2019  KR       4\n",
       "4     한글날  2019  KR       5\n",
       "5     황하나  2019  KR       6\n",
       "6     고유정  2019  KR       7\n",
       "7      조국  2019  KR       8\n",
       "8  호텔 델루나  2019  KR       9\n",
       "9  원펀맨 2기  2019  KR      10"
      ]
     },
     "execution_count": 46,
     "metadata": {},
     "output_type": "execute_result"
    }
   ],
   "source": [
    "# example\n",
    "get_top(2019,'KR')"
   ]
  },
  {
   "cell_type": "code",
   "execution_count": 50,
   "metadata": {},
   "outputs": [
    {
     "data": {
      "text/html": [
       "<div>\n",
       "<style scoped>\n",
       "    .dataframe tbody tr th:only-of-type {\n",
       "        vertical-align: middle;\n",
       "    }\n",
       "\n",
       "    .dataframe tbody tr th {\n",
       "        vertical-align: top;\n",
       "    }\n",
       "\n",
       "    .dataframe thead th {\n",
       "        text-align: right;\n",
       "    }\n",
       "</style>\n",
       "<table border=\"1\" class=\"dataframe\">\n",
       "  <thead>\n",
       "    <tr style=\"text-align: right;\">\n",
       "      <th></th>\n",
       "      <th>Unnamed: 0</th>\n",
       "      <th>title</th>\n",
       "      <th>date</th>\n",
       "      <th>geo</th>\n",
       "      <th>rating</th>\n",
       "    </tr>\n",
       "  </thead>\n",
       "  <tbody>\n",
       "    <tr>\n",
       "      <th>0</th>\n",
       "      <td>0</td>\n",
       "      <td>Dubai</td>\n",
       "      <td>2008</td>\n",
       "      <td>AE</td>\n",
       "      <td>1</td>\n",
       "    </tr>\n",
       "    <tr>\n",
       "      <th>1</th>\n",
       "      <td>1</td>\n",
       "      <td>UAE</td>\n",
       "      <td>2008</td>\n",
       "      <td>AE</td>\n",
       "      <td>2</td>\n",
       "    </tr>\n",
       "    <tr>\n",
       "      <th>2</th>\n",
       "      <td>2</td>\n",
       "      <td>الامارات</td>\n",
       "      <td>2008</td>\n",
       "      <td>AE</td>\n",
       "      <td>3</td>\n",
       "    </tr>\n",
       "    <tr>\n",
       "      <th>3</th>\n",
       "      <td>3</td>\n",
       "      <td>العاب</td>\n",
       "      <td>2008</td>\n",
       "      <td>AE</td>\n",
       "      <td>4</td>\n",
       "    </tr>\n",
       "    <tr>\n",
       "      <th>4</th>\n",
       "      <td>4</td>\n",
       "      <td>دبي</td>\n",
       "      <td>2008</td>\n",
       "      <td>AE</td>\n",
       "      <td>5</td>\n",
       "    </tr>\n",
       "    <tr>\n",
       "      <th>...</th>\n",
       "      <td>...</td>\n",
       "      <td>...</td>\n",
       "      <td>...</td>\n",
       "      <td>...</td>\n",
       "      <td>...</td>\n",
       "    </tr>\n",
       "    <tr>\n",
       "      <th>5</th>\n",
       "      <td>5</td>\n",
       "      <td>Edmund Kudzayi</td>\n",
       "      <td>2018</td>\n",
       "      <td>ZW</td>\n",
       "      <td>6</td>\n",
       "    </tr>\n",
       "    <tr>\n",
       "      <th>6</th>\n",
       "      <td>6</td>\n",
       "      <td>Winnie Mandela</td>\n",
       "      <td>2018</td>\n",
       "      <td>ZW</td>\n",
       "      <td>7</td>\n",
       "    </tr>\n",
       "    <tr>\n",
       "      <th>7</th>\n",
       "      <td>7</td>\n",
       "      <td>Mthuli Ncube</td>\n",
       "      <td>2018</td>\n",
       "      <td>ZW</td>\n",
       "      <td>8</td>\n",
       "    </tr>\n",
       "    <tr>\n",
       "      <th>8</th>\n",
       "      <td>8</td>\n",
       "      <td>Alexis Sanchez</td>\n",
       "      <td>2018</td>\n",
       "      <td>ZW</td>\n",
       "      <td>9</td>\n",
       "    </tr>\n",
       "    <tr>\n",
       "      <th>9</th>\n",
       "      <td>9</td>\n",
       "      <td>Emmerson Mnangagwa</td>\n",
       "      <td>2018</td>\n",
       "      <td>ZW</td>\n",
       "      <td>10</td>\n",
       "    </tr>\n",
       "  </tbody>\n",
       "</table>\n",
       "<p>7150 rows × 5 columns</p>\n",
       "</div>"
      ],
      "text/plain": [
       "    Unnamed: 0               title  date geo  rating\n",
       "0            0               Dubai  2008  AE       1\n",
       "1            1                 UAE  2008  AE       2\n",
       "2            2            الامارات  2008  AE       3\n",
       "3            3               العاب  2008  AE       4\n",
       "4            4                 دبي  2008  AE       5\n",
       "..         ...                 ...   ...  ..     ...\n",
       "5            5      Edmund Kudzayi  2018  ZW       6\n",
       "6            6      Winnie Mandela  2018  ZW       7\n",
       "7            7        Mthuli Ncube  2018  ZW       8\n",
       "8            8      Alexis Sanchez  2018  ZW       9\n",
       "9            9  Emmerson Mnangagwa  2018  ZW      10\n",
       "\n",
       "[7150 rows x 5 columns]"
      ]
     },
     "execution_count": 50,
     "metadata": {},
     "output_type": "execute_result"
    }
   ],
   "source": [
    "#collected all data in one dataframe(df)\n",
    "read_f  = glob.glob('google_data/*.csv')\n",
    "df = pd.DataFrame()\n",
    "for f in read_f:\n",
    "    df1 = pd.read_csv(f)\n",
    "    df = pd.concat([df,df1])\n",
    "df"
   ]
  },
  {
   "cell_type": "code",
   "execution_count": 51,
   "metadata": {},
   "outputs": [],
   "source": [
    "#save data to csv\n",
    "df.to_csv('google_data.csv')"
   ]
  },
  {
   "cell_type": "markdown",
   "metadata": {},
   "source": [
    "Data cleaning and feature engenering"
   ]
  },
  {
   "cell_type": "code",
   "execution_count": 12,
   "metadata": {},
   "outputs": [
    {
     "name": "stdout",
     "output_type": "stream",
     "text": [
      "<class 'pandas.core.frame.DataFrame'>\n",
      "Int64Index: 7150 entries, 0 to 9\n",
      "Data columns (total 5 columns):\n",
      " #   Column      Non-Null Count  Dtype \n",
      "---  ------      --------------  ----- \n",
      " 0   Unnamed: 0  7150 non-null   int64 \n",
      " 1   title       7150 non-null   object\n",
      " 2   date        7150 non-null   int64 \n",
      " 3   geo         7150 non-null   object\n",
      " 4   rating      7150 non-null   int64 \n",
      "dtypes: int64(3), object(2)\n",
      "memory usage: 335.2+ KB\n"
     ]
    }
   ],
   "source": [
    "df.info()"
   ]
  },
  {
   "cell_type": "code",
   "execution_count": 53,
   "metadata": {},
   "outputs": [
    {
     "data": {
      "text/html": [
       "<div>\n",
       "<style scoped>\n",
       "    .dataframe tbody tr th:only-of-type {\n",
       "        vertical-align: middle;\n",
       "    }\n",
       "\n",
       "    .dataframe tbody tr th {\n",
       "        vertical-align: top;\n",
       "    }\n",
       "\n",
       "    .dataframe thead th {\n",
       "        text-align: right;\n",
       "    }\n",
       "</style>\n",
       "<table border=\"1\" class=\"dataframe\">\n",
       "  <thead>\n",
       "    <tr style=\"text-align: right;\">\n",
       "      <th></th>\n",
       "      <th>title</th>\n",
       "      <th>date</th>\n",
       "      <th>geo</th>\n",
       "      <th>rating</th>\n",
       "    </tr>\n",
       "  </thead>\n",
       "  <tbody>\n",
       "    <tr>\n",
       "      <th>0</th>\n",
       "      <td>Dubai</td>\n",
       "      <td>2008</td>\n",
       "      <td>AE</td>\n",
       "      <td>1</td>\n",
       "    </tr>\n",
       "    <tr>\n",
       "      <th>1</th>\n",
       "      <td>UAE</td>\n",
       "      <td>2008</td>\n",
       "      <td>AE</td>\n",
       "      <td>2</td>\n",
       "    </tr>\n",
       "    <tr>\n",
       "      <th>2</th>\n",
       "      <td>الامارات</td>\n",
       "      <td>2008</td>\n",
       "      <td>AE</td>\n",
       "      <td>3</td>\n",
       "    </tr>\n",
       "    <tr>\n",
       "      <th>3</th>\n",
       "      <td>العاب</td>\n",
       "      <td>2008</td>\n",
       "      <td>AE</td>\n",
       "      <td>4</td>\n",
       "    </tr>\n",
       "    <tr>\n",
       "      <th>4</th>\n",
       "      <td>دبي</td>\n",
       "      <td>2008</td>\n",
       "      <td>AE</td>\n",
       "      <td>5</td>\n",
       "    </tr>\n",
       "    <tr>\n",
       "      <th>...</th>\n",
       "      <td>...</td>\n",
       "      <td>...</td>\n",
       "      <td>...</td>\n",
       "      <td>...</td>\n",
       "    </tr>\n",
       "    <tr>\n",
       "      <th>5</th>\n",
       "      <td>Edmund Kudzayi</td>\n",
       "      <td>2018</td>\n",
       "      <td>ZW</td>\n",
       "      <td>6</td>\n",
       "    </tr>\n",
       "    <tr>\n",
       "      <th>6</th>\n",
       "      <td>Winnie Mandela</td>\n",
       "      <td>2018</td>\n",
       "      <td>ZW</td>\n",
       "      <td>7</td>\n",
       "    </tr>\n",
       "    <tr>\n",
       "      <th>7</th>\n",
       "      <td>Mthuli Ncube</td>\n",
       "      <td>2018</td>\n",
       "      <td>ZW</td>\n",
       "      <td>8</td>\n",
       "    </tr>\n",
       "    <tr>\n",
       "      <th>8</th>\n",
       "      <td>Alexis Sanchez</td>\n",
       "      <td>2018</td>\n",
       "      <td>ZW</td>\n",
       "      <td>9</td>\n",
       "    </tr>\n",
       "    <tr>\n",
       "      <th>9</th>\n",
       "      <td>Emmerson Mnangagwa</td>\n",
       "      <td>2018</td>\n",
       "      <td>ZW</td>\n",
       "      <td>10</td>\n",
       "    </tr>\n",
       "  </tbody>\n",
       "</table>\n",
       "<p>7150 rows × 4 columns</p>\n",
       "</div>"
      ],
      "text/plain": [
       "                 title  date geo  rating\n",
       "0                Dubai  2008  AE       1\n",
       "1                  UAE  2008  AE       2\n",
       "2             الامارات  2008  AE       3\n",
       "3                العاب  2008  AE       4\n",
       "4                  دبي  2008  AE       5\n",
       "..                 ...   ...  ..     ...\n",
       "5       Edmund Kudzayi  2018  ZW       6\n",
       "6       Winnie Mandela  2018  ZW       7\n",
       "7         Mthuli Ncube  2018  ZW       8\n",
       "8       Alexis Sanchez  2018  ZW       9\n",
       "9   Emmerson Mnangagwa  2018  ZW      10\n",
       "\n",
       "[7150 rows x 4 columns]"
      ]
     },
     "execution_count": 53,
     "metadata": {},
     "output_type": "execute_result"
    }
   ],
   "source": [
    "df.drop('Unnamed: 0', axis=1,inplace=True)\n",
    "df"
   ]
  },
  {
   "cell_type": "code",
   "execution_count": 14,
   "metadata": {},
   "outputs": [
    {
     "name": "stdout",
     "output_type": "stream",
     "text": [
      "Unique countries: 80\n",
      "['AE' 'AR' 'AT' 'AU' 'BD' 'BE' 'BG' 'BR' 'BY' 'CA' 'CH' 'CL' 'CN' 'CO'\n",
      " 'CR' 'CZ' 'DE' 'DK' 'DO' 'EC' 'EE' 'EG' 'ES' 'FI' 'FR' 'GB' 'GH' 'GR'\n",
      " 'GT' 'HK' 'HN' 'HR' 'HU' 'ID' 'IE' 'IL' 'IN' 'IT' 'JP' 'KE' 'KR' 'KZ'\n",
      " 'LK' 'LT' 'LV' 'MM' 'MX' 'MY' 'NG' 'NL' 'NO' 'NZ' 'PA' 'PE' 'PH' 'PK'\n",
      " 'PL' 'PR' 'PT' 'RO' 'RS' 'RU' 'SA' 'SE' 'SG' 'SI' 'SK' 'SN' 'SV' 'TH'\n",
      " 'TR' 'TW' 'UA' 'UG' 'US' 'UY' 'VE' 'VN' 'ZA' 'ZW']\n"
     ]
    }
   ],
   "source": [
    "print(f'Unique countries: {len(df.geo.unique())}')\n",
    "print(df.geo.unique())"
   ]
  },
  {
   "cell_type": "code",
   "execution_count": 15,
   "metadata": {},
   "outputs": [
    {
     "name": "stdout",
     "output_type": "stream",
     "text": [
      "Unique years: 15\n",
      "[2008 2009 2012 2013 2014 2015 2016 2017 2018 2019 2020 2011 2010 2006\n",
      " 2007]\n"
     ]
    }
   ],
   "source": [
    "print(f'Unique years: {len(df.date.unique())}')\n",
    "print(df.date.unique())"
   ]
  },
  {
   "cell_type": "code",
   "execution_count": 16,
   "metadata": {},
   "outputs": [
    {
     "name": "stdout",
     "output_type": "stream",
     "text": [
      "Unique titles: 5422\n"
     ]
    }
   ],
   "source": [
    "print(f'Unique titles: {len(df.title.unique())}')"
   ]
  },
  {
   "cell_type": "code",
   "execution_count": 54,
   "metadata": {},
   "outputs": [
    {
     "data": {
      "text/html": [
       "<div>\n",
       "<style scoped>\n",
       "    .dataframe tbody tr th:only-of-type {\n",
       "        vertical-align: middle;\n",
       "    }\n",
       "\n",
       "    .dataframe tbody tr th {\n",
       "        vertical-align: top;\n",
       "    }\n",
       "\n",
       "    .dataframe thead tr th {\n",
       "        text-align: left;\n",
       "    }\n",
       "\n",
       "    .dataframe thead tr:last-of-type th {\n",
       "        text-align: right;\n",
       "    }\n",
       "</style>\n",
       "<table border=\"1\" class=\"dataframe\">\n",
       "  <thead>\n",
       "    <tr>\n",
       "      <th></th>\n",
       "      <th colspan=\"8\" halign=\"left\">date</th>\n",
       "      <th colspan=\"8\" halign=\"left\">rating</th>\n",
       "    </tr>\n",
       "    <tr>\n",
       "      <th></th>\n",
       "      <th>count</th>\n",
       "      <th>mean</th>\n",
       "      <th>std</th>\n",
       "      <th>min</th>\n",
       "      <th>25%</th>\n",
       "      <th>50%</th>\n",
       "      <th>75%</th>\n",
       "      <th>max</th>\n",
       "      <th>count</th>\n",
       "      <th>mean</th>\n",
       "      <th>std</th>\n",
       "      <th>min</th>\n",
       "      <th>25%</th>\n",
       "      <th>50%</th>\n",
       "      <th>75%</th>\n",
       "      <th>max</th>\n",
       "    </tr>\n",
       "    <tr>\n",
       "      <th>geo</th>\n",
       "      <th></th>\n",
       "      <th></th>\n",
       "      <th></th>\n",
       "      <th></th>\n",
       "      <th></th>\n",
       "      <th></th>\n",
       "      <th></th>\n",
       "      <th></th>\n",
       "      <th></th>\n",
       "      <th></th>\n",
       "      <th></th>\n",
       "      <th></th>\n",
       "      <th></th>\n",
       "      <th></th>\n",
       "      <th></th>\n",
       "      <th></th>\n",
       "    </tr>\n",
       "  </thead>\n",
       "  <tbody>\n",
       "    <tr>\n",
       "      <th>AE</th>\n",
       "      <td>110.0</td>\n",
       "      <td>2014.636364</td>\n",
       "      <td>3.740989</td>\n",
       "      <td>2008.0</td>\n",
       "      <td>2012.00</td>\n",
       "      <td>2015.0</td>\n",
       "      <td>2018.00</td>\n",
       "      <td>2020.0</td>\n",
       "      <td>110.0</td>\n",
       "      <td>5.5</td>\n",
       "      <td>2.885427</td>\n",
       "      <td>1.0</td>\n",
       "      <td>3.00</td>\n",
       "      <td>5.5</td>\n",
       "      <td>8.00</td>\n",
       "      <td>10.0</td>\n",
       "    </tr>\n",
       "    <tr>\n",
       "      <th>AR</th>\n",
       "      <td>120.0</td>\n",
       "      <td>2014.333333</td>\n",
       "      <td>3.719884</td>\n",
       "      <td>2008.0</td>\n",
       "      <td>2011.75</td>\n",
       "      <td>2014.5</td>\n",
       "      <td>2017.25</td>\n",
       "      <td>2020.0</td>\n",
       "      <td>120.0</td>\n",
       "      <td>5.5</td>\n",
       "      <td>2.884324</td>\n",
       "      <td>1.0</td>\n",
       "      <td>3.00</td>\n",
       "      <td>5.5</td>\n",
       "      <td>8.00</td>\n",
       "      <td>10.0</td>\n",
       "    </tr>\n",
       "    <tr>\n",
       "      <th>AT</th>\n",
       "      <td>120.0</td>\n",
       "      <td>2014.333333</td>\n",
       "      <td>3.719884</td>\n",
       "      <td>2008.0</td>\n",
       "      <td>2011.75</td>\n",
       "      <td>2014.5</td>\n",
       "      <td>2017.25</td>\n",
       "      <td>2020.0</td>\n",
       "      <td>120.0</td>\n",
       "      <td>5.5</td>\n",
       "      <td>2.884324</td>\n",
       "      <td>1.0</td>\n",
       "      <td>3.00</td>\n",
       "      <td>5.5</td>\n",
       "      <td>8.00</td>\n",
       "      <td>10.0</td>\n",
       "    </tr>\n",
       "    <tr>\n",
       "      <th>AU</th>\n",
       "      <td>120.0</td>\n",
       "      <td>2014.333333</td>\n",
       "      <td>3.719884</td>\n",
       "      <td>2008.0</td>\n",
       "      <td>2011.75</td>\n",
       "      <td>2014.5</td>\n",
       "      <td>2017.25</td>\n",
       "      <td>2020.0</td>\n",
       "      <td>120.0</td>\n",
       "      <td>5.5</td>\n",
       "      <td>2.884324</td>\n",
       "      <td>1.0</td>\n",
       "      <td>3.00</td>\n",
       "      <td>5.5</td>\n",
       "      <td>8.00</td>\n",
       "      <td>10.0</td>\n",
       "    </tr>\n",
       "    <tr>\n",
       "      <th>BD</th>\n",
       "      <td>70.0</td>\n",
       "      <td>2016.000000</td>\n",
       "      <td>2.014441</td>\n",
       "      <td>2013.0</td>\n",
       "      <td>2014.00</td>\n",
       "      <td>2016.0</td>\n",
       "      <td>2018.00</td>\n",
       "      <td>2019.0</td>\n",
       "      <td>70.0</td>\n",
       "      <td>5.5</td>\n",
       "      <td>2.893020</td>\n",
       "      <td>1.0</td>\n",
       "      <td>3.00</td>\n",
       "      <td>5.5</td>\n",
       "      <td>8.00</td>\n",
       "      <td>10.0</td>\n",
       "    </tr>\n",
       "    <tr>\n",
       "      <th>...</th>\n",
       "      <td>...</td>\n",
       "      <td>...</td>\n",
       "      <td>...</td>\n",
       "      <td>...</td>\n",
       "      <td>...</td>\n",
       "      <td>...</td>\n",
       "      <td>...</td>\n",
       "      <td>...</td>\n",
       "      <td>...</td>\n",
       "      <td>...</td>\n",
       "      <td>...</td>\n",
       "      <td>...</td>\n",
       "      <td>...</td>\n",
       "      <td>...</td>\n",
       "      <td>...</td>\n",
       "      <td>...</td>\n",
       "    </tr>\n",
       "    <tr>\n",
       "      <th>UY</th>\n",
       "      <td>80.0</td>\n",
       "      <td>2016.500000</td>\n",
       "      <td>2.305744</td>\n",
       "      <td>2013.0</td>\n",
       "      <td>2014.75</td>\n",
       "      <td>2016.5</td>\n",
       "      <td>2018.25</td>\n",
       "      <td>2020.0</td>\n",
       "      <td>80.0</td>\n",
       "      <td>5.5</td>\n",
       "      <td>2.890403</td>\n",
       "      <td>1.0</td>\n",
       "      <td>3.00</td>\n",
       "      <td>5.5</td>\n",
       "      <td>8.00</td>\n",
       "      <td>10.0</td>\n",
       "    </tr>\n",
       "    <tr>\n",
       "      <th>VE</th>\n",
       "      <td>10.0</td>\n",
       "      <td>2013.000000</td>\n",
       "      <td>0.000000</td>\n",
       "      <td>2013.0</td>\n",
       "      <td>2013.00</td>\n",
       "      <td>2013.0</td>\n",
       "      <td>2013.00</td>\n",
       "      <td>2013.0</td>\n",
       "      <td>10.0</td>\n",
       "      <td>5.5</td>\n",
       "      <td>3.027650</td>\n",
       "      <td>1.0</td>\n",
       "      <td>3.25</td>\n",
       "      <td>5.5</td>\n",
       "      <td>7.75</td>\n",
       "      <td>10.0</td>\n",
       "    </tr>\n",
       "    <tr>\n",
       "      <th>VN</th>\n",
       "      <td>90.0</td>\n",
       "      <td>2016.000000</td>\n",
       "      <td>2.596454</td>\n",
       "      <td>2012.0</td>\n",
       "      <td>2014.00</td>\n",
       "      <td>2016.0</td>\n",
       "      <td>2018.00</td>\n",
       "      <td>2020.0</td>\n",
       "      <td>90.0</td>\n",
       "      <td>5.5</td>\n",
       "      <td>2.888373</td>\n",
       "      <td>1.0</td>\n",
       "      <td>3.00</td>\n",
       "      <td>5.5</td>\n",
       "      <td>8.00</td>\n",
       "      <td>10.0</td>\n",
       "    </tr>\n",
       "    <tr>\n",
       "      <th>ZA</th>\n",
       "      <td>120.0</td>\n",
       "      <td>2014.333333</td>\n",
       "      <td>3.719884</td>\n",
       "      <td>2008.0</td>\n",
       "      <td>2011.75</td>\n",
       "      <td>2014.5</td>\n",
       "      <td>2017.25</td>\n",
       "      <td>2020.0</td>\n",
       "      <td>120.0</td>\n",
       "      <td>5.5</td>\n",
       "      <td>2.884324</td>\n",
       "      <td>1.0</td>\n",
       "      <td>3.00</td>\n",
       "      <td>5.5</td>\n",
       "      <td>8.00</td>\n",
       "      <td>10.0</td>\n",
       "    </tr>\n",
       "    <tr>\n",
       "      <th>ZW</th>\n",
       "      <td>20.0</td>\n",
       "      <td>2017.500000</td>\n",
       "      <td>0.512989</td>\n",
       "      <td>2017.0</td>\n",
       "      <td>2017.00</td>\n",
       "      <td>2017.5</td>\n",
       "      <td>2018.00</td>\n",
       "      <td>2018.0</td>\n",
       "      <td>20.0</td>\n",
       "      <td>5.5</td>\n",
       "      <td>2.946898</td>\n",
       "      <td>1.0</td>\n",
       "      <td>3.00</td>\n",
       "      <td>5.5</td>\n",
       "      <td>8.00</td>\n",
       "      <td>10.0</td>\n",
       "    </tr>\n",
       "  </tbody>\n",
       "</table>\n",
       "<p>80 rows × 16 columns</p>\n",
       "</div>"
      ],
      "text/plain": [
       "      date                                                                   \\\n",
       "     count         mean       std     min      25%     50%      75%     max   \n",
       "geo                                                                           \n",
       "AE   110.0  2014.636364  3.740989  2008.0  2012.00  2015.0  2018.00  2020.0   \n",
       "AR   120.0  2014.333333  3.719884  2008.0  2011.75  2014.5  2017.25  2020.0   \n",
       "AT   120.0  2014.333333  3.719884  2008.0  2011.75  2014.5  2017.25  2020.0   \n",
       "AU   120.0  2014.333333  3.719884  2008.0  2011.75  2014.5  2017.25  2020.0   \n",
       "BD    70.0  2016.000000  2.014441  2013.0  2014.00  2016.0  2018.00  2019.0   \n",
       "..     ...          ...       ...     ...      ...     ...      ...     ...   \n",
       "UY    80.0  2016.500000  2.305744  2013.0  2014.75  2016.5  2018.25  2020.0   \n",
       "VE    10.0  2013.000000  0.000000  2013.0  2013.00  2013.0  2013.00  2013.0   \n",
       "VN    90.0  2016.000000  2.596454  2012.0  2014.00  2016.0  2018.00  2020.0   \n",
       "ZA   120.0  2014.333333  3.719884  2008.0  2011.75  2014.5  2017.25  2020.0   \n",
       "ZW    20.0  2017.500000  0.512989  2017.0  2017.00  2017.5  2018.00  2018.0   \n",
       "\n",
       "    rating                                             \n",
       "     count mean       std  min   25%  50%   75%   max  \n",
       "geo                                                    \n",
       "AE   110.0  5.5  2.885427  1.0  3.00  5.5  8.00  10.0  \n",
       "AR   120.0  5.5  2.884324  1.0  3.00  5.5  8.00  10.0  \n",
       "AT   120.0  5.5  2.884324  1.0  3.00  5.5  8.00  10.0  \n",
       "AU   120.0  5.5  2.884324  1.0  3.00  5.5  8.00  10.0  \n",
       "BD    70.0  5.5  2.893020  1.0  3.00  5.5  8.00  10.0  \n",
       "..     ...  ...       ...  ...   ...  ...   ...   ...  \n",
       "UY    80.0  5.5  2.890403  1.0  3.00  5.5  8.00  10.0  \n",
       "VE    10.0  5.5  3.027650  1.0  3.25  5.5  7.75  10.0  \n",
       "VN    90.0  5.5  2.888373  1.0  3.00  5.5  8.00  10.0  \n",
       "ZA   120.0  5.5  2.884324  1.0  3.00  5.5  8.00  10.0  \n",
       "ZW    20.0  5.5  2.946898  1.0  3.00  5.5  8.00  10.0  \n",
       "\n",
       "[80 rows x 16 columns]"
      ]
     },
     "execution_count": 54,
     "metadata": {},
     "output_type": "execute_result"
    }
   ],
   "source": [
    "df.groupby('geo').describe() "
   ]
  },
  {
   "cell_type": "code",
   "execution_count": 55,
   "metadata": {},
   "outputs": [
    {
     "data": {
      "text/html": [
       "<div>\n",
       "<style scoped>\n",
       "    .dataframe tbody tr th:only-of-type {\n",
       "        vertical-align: middle;\n",
       "    }\n",
       "\n",
       "    .dataframe tbody tr th {\n",
       "        vertical-align: top;\n",
       "    }\n",
       "\n",
       "    .dataframe thead tr th {\n",
       "        text-align: left;\n",
       "    }\n",
       "\n",
       "    .dataframe thead tr:last-of-type th {\n",
       "        text-align: right;\n",
       "    }\n",
       "</style>\n",
       "<table border=\"1\" class=\"dataframe\">\n",
       "  <thead>\n",
       "    <tr>\n",
       "      <th></th>\n",
       "      <th colspan=\"8\" halign=\"left\">rating</th>\n",
       "    </tr>\n",
       "    <tr>\n",
       "      <th></th>\n",
       "      <th>count</th>\n",
       "      <th>mean</th>\n",
       "      <th>std</th>\n",
       "      <th>min</th>\n",
       "      <th>25%</th>\n",
       "      <th>50%</th>\n",
       "      <th>75%</th>\n",
       "      <th>max</th>\n",
       "    </tr>\n",
       "    <tr>\n",
       "      <th>date</th>\n",
       "      <th></th>\n",
       "      <th></th>\n",
       "      <th></th>\n",
       "      <th></th>\n",
       "      <th></th>\n",
       "      <th></th>\n",
       "      <th></th>\n",
       "      <th></th>\n",
       "    </tr>\n",
       "  </thead>\n",
       "  <tbody>\n",
       "    <tr>\n",
       "      <th>2006</th>\n",
       "      <td>10.0</td>\n",
       "      <td>5.5</td>\n",
       "      <td>3.027650</td>\n",
       "      <td>1.0</td>\n",
       "      <td>3.25</td>\n",
       "      <td>5.5</td>\n",
       "      <td>7.75</td>\n",
       "      <td>10.0</td>\n",
       "    </tr>\n",
       "    <tr>\n",
       "      <th>2007</th>\n",
       "      <td>10.0</td>\n",
       "      <td>5.5</td>\n",
       "      <td>3.027650</td>\n",
       "      <td>1.0</td>\n",
       "      <td>3.25</td>\n",
       "      <td>5.5</td>\n",
       "      <td>7.75</td>\n",
       "      <td>10.0</td>\n",
       "    </tr>\n",
       "    <tr>\n",
       "      <th>2008</th>\n",
       "      <td>350.0</td>\n",
       "      <td>5.5</td>\n",
       "      <td>2.876393</td>\n",
       "      <td>1.0</td>\n",
       "      <td>3.00</td>\n",
       "      <td>5.5</td>\n",
       "      <td>8.00</td>\n",
       "      <td>10.0</td>\n",
       "    </tr>\n",
       "    <tr>\n",
       "      <th>2009</th>\n",
       "      <td>470.0</td>\n",
       "      <td>5.5</td>\n",
       "      <td>2.875342</td>\n",
       "      <td>1.0</td>\n",
       "      <td>3.00</td>\n",
       "      <td>5.5</td>\n",
       "      <td>8.00</td>\n",
       "      <td>10.0</td>\n",
       "    </tr>\n",
       "    <tr>\n",
       "      <th>2010</th>\n",
       "      <td>20.0</td>\n",
       "      <td>5.5</td>\n",
       "      <td>2.946898</td>\n",
       "      <td>1.0</td>\n",
       "      <td>3.00</td>\n",
       "      <td>5.5</td>\n",
       "      <td>8.00</td>\n",
       "      <td>10.0</td>\n",
       "    </tr>\n",
       "    <tr>\n",
       "      <th>2011</th>\n",
       "      <td>490.0</td>\n",
       "      <td>5.5</td>\n",
       "      <td>2.875217</td>\n",
       "      <td>1.0</td>\n",
       "      <td>3.00</td>\n",
       "      <td>5.5</td>\n",
       "      <td>8.00</td>\n",
       "      <td>10.0</td>\n",
       "    </tr>\n",
       "    <tr>\n",
       "      <th>2012</th>\n",
       "      <td>550.0</td>\n",
       "      <td>5.5</td>\n",
       "      <td>2.874896</td>\n",
       "      <td>1.0</td>\n",
       "      <td>3.00</td>\n",
       "      <td>5.5</td>\n",
       "      <td>8.00</td>\n",
       "      <td>10.0</td>\n",
       "    </tr>\n",
       "    <tr>\n",
       "      <th>2013</th>\n",
       "      <td>690.0</td>\n",
       "      <td>5.5</td>\n",
       "      <td>2.874365</td>\n",
       "      <td>1.0</td>\n",
       "      <td>3.00</td>\n",
       "      <td>5.5</td>\n",
       "      <td>8.00</td>\n",
       "      <td>10.0</td>\n",
       "    </tr>\n",
       "    <tr>\n",
       "      <th>2014</th>\n",
       "      <td>620.0</td>\n",
       "      <td>5.5</td>\n",
       "      <td>2.874600</td>\n",
       "      <td>1.0</td>\n",
       "      <td>3.00</td>\n",
       "      <td>5.5</td>\n",
       "      <td>8.00</td>\n",
       "      <td>10.0</td>\n",
       "    </tr>\n",
       "    <tr>\n",
       "      <th>2015</th>\n",
       "      <td>610.0</td>\n",
       "      <td>5.5</td>\n",
       "      <td>2.874639</td>\n",
       "      <td>1.0</td>\n",
       "      <td>3.00</td>\n",
       "      <td>5.5</td>\n",
       "      <td>8.00</td>\n",
       "      <td>10.0</td>\n",
       "    </tr>\n",
       "    <tr>\n",
       "      <th>2016</th>\n",
       "      <td>620.0</td>\n",
       "      <td>5.5</td>\n",
       "      <td>2.874600</td>\n",
       "      <td>1.0</td>\n",
       "      <td>3.00</td>\n",
       "      <td>5.5</td>\n",
       "      <td>8.00</td>\n",
       "      <td>10.0</td>\n",
       "    </tr>\n",
       "    <tr>\n",
       "      <th>2017</th>\n",
       "      <td>670.0</td>\n",
       "      <td>5.5</td>\n",
       "      <td>2.874427</td>\n",
       "      <td>1.0</td>\n",
       "      <td>3.00</td>\n",
       "      <td>5.5</td>\n",
       "      <td>8.00</td>\n",
       "      <td>10.0</td>\n",
       "    </tr>\n",
       "    <tr>\n",
       "      <th>2018</th>\n",
       "      <td>680.0</td>\n",
       "      <td>5.5</td>\n",
       "      <td>2.874396</td>\n",
       "      <td>1.0</td>\n",
       "      <td>3.00</td>\n",
       "      <td>5.5</td>\n",
       "      <td>8.00</td>\n",
       "      <td>10.0</td>\n",
       "    </tr>\n",
       "    <tr>\n",
       "      <th>2019</th>\n",
       "      <td>690.0</td>\n",
       "      <td>5.5</td>\n",
       "      <td>2.874365</td>\n",
       "      <td>1.0</td>\n",
       "      <td>3.00</td>\n",
       "      <td>5.5</td>\n",
       "      <td>8.00</td>\n",
       "      <td>10.0</td>\n",
       "    </tr>\n",
       "    <tr>\n",
       "      <th>2020</th>\n",
       "      <td>670.0</td>\n",
       "      <td>5.5</td>\n",
       "      <td>2.874427</td>\n",
       "      <td>1.0</td>\n",
       "      <td>3.00</td>\n",
       "      <td>5.5</td>\n",
       "      <td>8.00</td>\n",
       "      <td>10.0</td>\n",
       "    </tr>\n",
       "  </tbody>\n",
       "</table>\n",
       "</div>"
      ],
      "text/plain": [
       "     rating                                           \n",
       "      count mean       std  min   25%  50%   75%   max\n",
       "date                                                  \n",
       "2006   10.0  5.5  3.027650  1.0  3.25  5.5  7.75  10.0\n",
       "2007   10.0  5.5  3.027650  1.0  3.25  5.5  7.75  10.0\n",
       "2008  350.0  5.5  2.876393  1.0  3.00  5.5  8.00  10.0\n",
       "2009  470.0  5.5  2.875342  1.0  3.00  5.5  8.00  10.0\n",
       "2010   20.0  5.5  2.946898  1.0  3.00  5.5  8.00  10.0\n",
       "2011  490.0  5.5  2.875217  1.0  3.00  5.5  8.00  10.0\n",
       "2012  550.0  5.5  2.874896  1.0  3.00  5.5  8.00  10.0\n",
       "2013  690.0  5.5  2.874365  1.0  3.00  5.5  8.00  10.0\n",
       "2014  620.0  5.5  2.874600  1.0  3.00  5.5  8.00  10.0\n",
       "2015  610.0  5.5  2.874639  1.0  3.00  5.5  8.00  10.0\n",
       "2016  620.0  5.5  2.874600  1.0  3.00  5.5  8.00  10.0\n",
       "2017  670.0  5.5  2.874427  1.0  3.00  5.5  8.00  10.0\n",
       "2018  680.0  5.5  2.874396  1.0  3.00  5.5  8.00  10.0\n",
       "2019  690.0  5.5  2.874365  1.0  3.00  5.5  8.00  10.0\n",
       "2020  670.0  5.5  2.874427  1.0  3.00  5.5  8.00  10.0"
      ]
     },
     "execution_count": 55,
     "metadata": {},
     "output_type": "execute_result"
    }
   ],
   "source": [
    "df.groupby('date').describe() "
   ]
  },
  {
   "cell_type": "code",
   "execution_count": 57,
   "metadata": {},
   "outputs": [],
   "source": [
    "df['title_len'] = df.title.apply(lambda x: len(x))"
   ]
  },
  {
   "cell_type": "code",
   "execution_count": 58,
   "metadata": {},
   "outputs": [],
   "source": [
    "df['title_word_count'] = df.title.apply(lambda x: len(x.split(' ')))"
   ]
  },
  {
   "cell_type": "code",
   "execution_count": 59,
   "metadata": {},
   "outputs": [
    {
     "data": {
      "text/html": [
       "<div>\n",
       "<style scoped>\n",
       "    .dataframe tbody tr th:only-of-type {\n",
       "        vertical-align: middle;\n",
       "    }\n",
       "\n",
       "    .dataframe tbody tr th {\n",
       "        vertical-align: top;\n",
       "    }\n",
       "\n",
       "    .dataframe thead th {\n",
       "        text-align: right;\n",
       "    }\n",
       "</style>\n",
       "<table border=\"1\" class=\"dataframe\">\n",
       "  <thead>\n",
       "    <tr style=\"text-align: right;\">\n",
       "      <th></th>\n",
       "      <th>title</th>\n",
       "      <th>date</th>\n",
       "      <th>geo</th>\n",
       "      <th>rating</th>\n",
       "      <th>title_len</th>\n",
       "      <th>title_word_count</th>\n",
       "    </tr>\n",
       "  </thead>\n",
       "  <tbody>\n",
       "    <tr>\n",
       "      <th>0</th>\n",
       "      <td>Dubai</td>\n",
       "      <td>2008</td>\n",
       "      <td>AE</td>\n",
       "      <td>1</td>\n",
       "      <td>5</td>\n",
       "      <td>1</td>\n",
       "    </tr>\n",
       "    <tr>\n",
       "      <th>1</th>\n",
       "      <td>UAE</td>\n",
       "      <td>2008</td>\n",
       "      <td>AE</td>\n",
       "      <td>2</td>\n",
       "      <td>3</td>\n",
       "      <td>1</td>\n",
       "    </tr>\n",
       "    <tr>\n",
       "      <th>2</th>\n",
       "      <td>الامارات</td>\n",
       "      <td>2008</td>\n",
       "      <td>AE</td>\n",
       "      <td>3</td>\n",
       "      <td>8</td>\n",
       "      <td>1</td>\n",
       "    </tr>\n",
       "    <tr>\n",
       "      <th>3</th>\n",
       "      <td>العاب</td>\n",
       "      <td>2008</td>\n",
       "      <td>AE</td>\n",
       "      <td>4</td>\n",
       "      <td>5</td>\n",
       "      <td>1</td>\n",
       "    </tr>\n",
       "    <tr>\n",
       "      <th>4</th>\n",
       "      <td>دبي</td>\n",
       "      <td>2008</td>\n",
       "      <td>AE</td>\n",
       "      <td>5</td>\n",
       "      <td>3</td>\n",
       "      <td>1</td>\n",
       "    </tr>\n",
       "    <tr>\n",
       "      <th>...</th>\n",
       "      <td>...</td>\n",
       "      <td>...</td>\n",
       "      <td>...</td>\n",
       "      <td>...</td>\n",
       "      <td>...</td>\n",
       "      <td>...</td>\n",
       "    </tr>\n",
       "    <tr>\n",
       "      <th>5</th>\n",
       "      <td>Edmund Kudzayi</td>\n",
       "      <td>2018</td>\n",
       "      <td>ZW</td>\n",
       "      <td>6</td>\n",
       "      <td>14</td>\n",
       "      <td>2</td>\n",
       "    </tr>\n",
       "    <tr>\n",
       "      <th>6</th>\n",
       "      <td>Winnie Mandela</td>\n",
       "      <td>2018</td>\n",
       "      <td>ZW</td>\n",
       "      <td>7</td>\n",
       "      <td>14</td>\n",
       "      <td>2</td>\n",
       "    </tr>\n",
       "    <tr>\n",
       "      <th>7</th>\n",
       "      <td>Mthuli Ncube</td>\n",
       "      <td>2018</td>\n",
       "      <td>ZW</td>\n",
       "      <td>8</td>\n",
       "      <td>12</td>\n",
       "      <td>2</td>\n",
       "    </tr>\n",
       "    <tr>\n",
       "      <th>8</th>\n",
       "      <td>Alexis Sanchez</td>\n",
       "      <td>2018</td>\n",
       "      <td>ZW</td>\n",
       "      <td>9</td>\n",
       "      <td>14</td>\n",
       "      <td>2</td>\n",
       "    </tr>\n",
       "    <tr>\n",
       "      <th>9</th>\n",
       "      <td>Emmerson Mnangagwa</td>\n",
       "      <td>2018</td>\n",
       "      <td>ZW</td>\n",
       "      <td>10</td>\n",
       "      <td>18</td>\n",
       "      <td>2</td>\n",
       "    </tr>\n",
       "  </tbody>\n",
       "</table>\n",
       "<p>7150 rows × 6 columns</p>\n",
       "</div>"
      ],
      "text/plain": [
       "                 title  date geo  rating  title_len  title_word_count\n",
       "0                Dubai  2008  AE       1          5                 1\n",
       "1                  UAE  2008  AE       2          3                 1\n",
       "2             الامارات  2008  AE       3          8                 1\n",
       "3                العاب  2008  AE       4          5                 1\n",
       "4                  دبي  2008  AE       5          3                 1\n",
       "..                 ...   ...  ..     ...        ...               ...\n",
       "5       Edmund Kudzayi  2018  ZW       6         14                 2\n",
       "6       Winnie Mandela  2018  ZW       7         14                 2\n",
       "7         Mthuli Ncube  2018  ZW       8         12                 2\n",
       "8       Alexis Sanchez  2018  ZW       9         14                 2\n",
       "9   Emmerson Mnangagwa  2018  ZW      10         18                 2\n",
       "\n",
       "[7150 rows x 6 columns]"
      ]
     },
     "execution_count": 59,
     "metadata": {},
     "output_type": "execute_result"
    }
   ],
   "source": [
    "df"
   ]
  },
  {
   "cell_type": "code",
   "execution_count": 60,
   "metadata": {},
   "outputs": [
    {
     "data": {
      "text/html": [
       "<div>\n",
       "<style scoped>\n",
       "    .dataframe tbody tr th:only-of-type {\n",
       "        vertical-align: middle;\n",
       "    }\n",
       "\n",
       "    .dataframe tbody tr th {\n",
       "        vertical-align: top;\n",
       "    }\n",
       "\n",
       "    .dataframe thead th {\n",
       "        text-align: right;\n",
       "    }\n",
       "</style>\n",
       "<table border=\"1\" class=\"dataframe\">\n",
       "  <thead>\n",
       "    <tr style=\"text-align: right;\">\n",
       "      <th></th>\n",
       "      <th>title</th>\n",
       "      <th>date</th>\n",
       "      <th>geo</th>\n",
       "      <th>rating</th>\n",
       "      <th>title_len</th>\n",
       "      <th>title_word_count</th>\n",
       "    </tr>\n",
       "  </thead>\n",
       "  <tbody>\n",
       "    <tr>\n",
       "      <th>6</th>\n",
       "      <td>30 aniversario de la caída del Muro de Berlín</td>\n",
       "      <td>2019</td>\n",
       "      <td>CR</td>\n",
       "      <td>7</td>\n",
       "      <td>45</td>\n",
       "      <td>9</td>\n",
       "    </tr>\n",
       "    <tr>\n",
       "      <th>2</th>\n",
       "      <td>30 aniversario de la caída del muro de Berlín</td>\n",
       "      <td>2019</td>\n",
       "      <td>GT</td>\n",
       "      <td>3</td>\n",
       "      <td>45</td>\n",
       "      <td>9</td>\n",
       "    </tr>\n",
       "    <tr>\n",
       "      <th>5</th>\n",
       "      <td>30 aniversario de la caída del Muro de Berlín</td>\n",
       "      <td>2019</td>\n",
       "      <td>PA</td>\n",
       "      <td>6</td>\n",
       "      <td>45</td>\n",
       "      <td>9</td>\n",
       "    </tr>\n",
       "    <tr>\n",
       "      <th>4</th>\n",
       "      <td>30 aniversario de la caída del Muro de Berlín</td>\n",
       "      <td>2019</td>\n",
       "      <td>PR</td>\n",
       "      <td>5</td>\n",
       "      <td>45</td>\n",
       "      <td>9</td>\n",
       "    </tr>\n",
       "  </tbody>\n",
       "</table>\n",
       "</div>"
      ],
      "text/plain": [
       "                                           title  date geo  rating  title_len  \\\n",
       "6  30 aniversario de la caída del Muro de Berlín  2019  CR       7         45   \n",
       "2  30 aniversario de la caída del muro de Berlín  2019  GT       3         45   \n",
       "5  30 aniversario de la caída del Muro de Berlín  2019  PA       6         45   \n",
       "4  30 aniversario de la caída del Muro de Berlín  2019  PR       5         45   \n",
       "\n",
       "   title_word_count  \n",
       "6                 9  \n",
       "2                 9  \n",
       "5                 9  \n",
       "4                 9  "
      ]
     },
     "execution_count": 60,
     "metadata": {},
     "output_type": "execute_result"
    }
   ],
   "source": [
    "#maximum number of words in a title\n",
    "df[df.title_word_count == df.title_word_count.max()]"
   ]
  },
  {
   "cell_type": "code",
   "execution_count": 62,
   "metadata": {},
   "outputs": [
    {
     "data": {
      "text/html": [
       "<div>\n",
       "<style scoped>\n",
       "    .dataframe tbody tr th:only-of-type {\n",
       "        vertical-align: middle;\n",
       "    }\n",
       "\n",
       "    .dataframe tbody tr th {\n",
       "        vertical-align: top;\n",
       "    }\n",
       "\n",
       "    .dataframe thead th {\n",
       "        text-align: right;\n",
       "    }\n",
       "</style>\n",
       "<table border=\"1\" class=\"dataframe\">\n",
       "  <thead>\n",
       "    <tr style=\"text-align: right;\">\n",
       "      <th></th>\n",
       "      <th>title</th>\n",
       "      <th>date</th>\n",
       "      <th>geo</th>\n",
       "      <th>rating</th>\n",
       "      <th>title_len</th>\n",
       "      <th>title_word_count</th>\n",
       "    </tr>\n",
       "  </thead>\n",
       "  <tbody>\n",
       "    <tr>\n",
       "      <th>1</th>\n",
       "      <td>Kenya Universities and Colleges Central Placem...</td>\n",
       "      <td>2014</td>\n",
       "      <td>KE</td>\n",
       "      <td>2</td>\n",
       "      <td>66</td>\n",
       "      <td>8</td>\n",
       "    </tr>\n",
       "  </tbody>\n",
       "</table>\n",
       "</div>"
      ],
      "text/plain": [
       "                                               title  date geo  rating  \\\n",
       "1  Kenya Universities and Colleges Central Placem...  2014  KE       2   \n",
       "\n",
       "   title_len  title_word_count  \n",
       "1         66                 8  "
      ]
     },
     "execution_count": 62,
     "metadata": {},
     "output_type": "execute_result"
    }
   ],
   "source": [
    "#maximum length of headers\n",
    "df[df.title_len == df.title_len.max()]"
   ]
  },
  {
   "cell_type": "code",
   "execution_count": 64,
   "metadata": {},
   "outputs": [
    {
     "data": {
      "text/html": [
       "<div>\n",
       "<style scoped>\n",
       "    .dataframe tbody tr th:only-of-type {\n",
       "        vertical-align: middle;\n",
       "    }\n",
       "\n",
       "    .dataframe tbody tr th {\n",
       "        vertical-align: top;\n",
       "    }\n",
       "\n",
       "    .dataframe thead th {\n",
       "        text-align: right;\n",
       "    }\n",
       "</style>\n",
       "<table border=\"1\" class=\"dataframe\">\n",
       "  <thead>\n",
       "    <tr style=\"text-align: right;\">\n",
       "      <th></th>\n",
       "      <th>title</th>\n",
       "      <th>date</th>\n",
       "      <th>geo</th>\n",
       "      <th>rating</th>\n",
       "      <th>title_len</th>\n",
       "      <th>title_word_count</th>\n",
       "    </tr>\n",
       "  </thead>\n",
       "  <tbody>\n",
       "    <tr>\n",
       "      <th>9</th>\n",
       "      <td>茶</td>\n",
       "      <td>2012</td>\n",
       "      <td>CN</td>\n",
       "      <td>10</td>\n",
       "      <td>1</td>\n",
       "      <td>1</td>\n",
       "    </tr>\n",
       "    <tr>\n",
       "      <th>7</th>\n",
       "      <td>빙</td>\n",
       "      <td>2009</td>\n",
       "      <td>KR</td>\n",
       "      <td>8</td>\n",
       "      <td>1</td>\n",
       "      <td>1</td>\n",
       "    </tr>\n",
       "  </tbody>\n",
       "</table>\n",
       "</div>"
      ],
      "text/plain": [
       "  title  date geo  rating  title_len  title_word_count\n",
       "9     茶  2012  CN      10          1                 1\n",
       "7     빙  2009  KR       8          1                 1"
      ]
     },
     "execution_count": 64,
     "metadata": {},
     "output_type": "execute_result"
    }
   ],
   "source": [
    "#minimum length of headers\n",
    "df[df.title_len == df.title_len.min()]"
   ]
  },
  {
   "cell_type": "code",
   "execution_count": 65,
   "metadata": {},
   "outputs": [
    {
     "data": {
      "text/plain": [
       "2020    25\n",
       "Name: date, dtype: int64"
      ]
     },
     "execution_count": 65,
     "metadata": {},
     "output_type": "execute_result"
    }
   ],
   "source": [
    "df[df.title == 'Coronavirus'].date.value_counts()"
   ]
  },
  {
   "cell_type": "markdown",
   "metadata": {},
   "source": [
    "Visualization"
   ]
  },
  {
   "cell_type": "code",
   "execution_count": 66,
   "metadata": {},
   "outputs": [],
   "source": [
    "from matplotlib.pyplot import figure\n",
    "import matplotlib.pyplot as plt\n",
    "import seaborn as sns"
   ]
  },
  {
   "cell_type": "code",
   "execution_count": 80,
   "metadata": {},
   "outputs": [
    {
     "data": {
      "image/png": "[encoded data removed]",
      "text/plain": [
       "<Figure size 640x480 with 1 Axes>"
      ]
     },
     "metadata": {
      "needs_background": "light"
     },
     "output_type": "display_data"
    }
   ],
   "source": [
    "figure(figsize=(8, 6), dpi=80)\n",
    "df.title.value_counts()[:5].plot(title = 'Top 5 most frequency (all time, global)');"
   ]
  },
  {
   "cell_type": "code",
   "execution_count": 83,
   "metadata": {},
   "outputs": [
    {
     "name": "stdout",
     "output_type": "stream",
     "text": [
      "Facebook              43\n",
      "Kobe Bryant           28\n",
      "Donald Trump          27\n",
      "Coronavirus           25\n",
      "Robin Williams        25\n",
      "                      ..\n",
      "离婚律师                   1\n",
      "Street Parade 2012     1\n",
      "余震                     1\n",
      "Sean Penn              1\n",
      "Αμφιπολη               1\n",
      "Name: title, Length: 5422, dtype: int64\n"
     ]
    },
    {
     "data": {
      "image/png": "[encoded data removed]",
      "text/plain": [
       "<Figure size 720x288 with 1 Axes>"
      ]
     },
     "metadata": {
      "needs_background": "light"
     },
     "output_type": "display_data"
    },
    {
     "name": "stdout",
     "output_type": "stream",
     "text": [
      "2019    690\n",
      "2013    690\n",
      "2018    680\n",
      "2017    670\n",
      "2020    670\n",
      "2014    620\n",
      "2016    620\n",
      "2015    610\n",
      "2012    550\n",
      "2011    490\n",
      "2009    470\n",
      "2008    350\n",
      "2010     20\n",
      "2007     10\n",
      "2006     10\n",
      "Name: date, dtype: int64\n"
     ]
    },
    {
     "data": {
      "image/png": "[encoded data removed]",
      "text/plain": [
       "<Figure size 720x288 with 1 Axes>"
      ]
     },
     "metadata": {
      "needs_background": "light"
     },
     "output_type": "display_data"
    },
    {
     "name": "stdout",
     "output_type": "stream",
     "text": [
      "US    140\n",
      "DE    130\n",
      "FR    120\n",
      "NZ    120\n",
      "PL    120\n",
      "     ... \n",
      "LK     10\n",
      "VE     10\n",
      "SV     10\n",
      "DO     10\n",
      "HN     10\n",
      "Name: geo, Length: 80, dtype: int64\n"
     ]
    },
    {
     "data": {
      "image/png": "[encoded data removed]",
      "text/plain": [
       "<Figure size 720x288 with 1 Axes>"
      ]
     },
     "metadata": {
      "needs_background": "light"
     },
     "output_type": "display_data"
    }
   ],
   "source": [
    "features_general = ['title','date', 'geo']\n",
    "\n",
    "for f in features_general:\n",
    "    print(df[f].value_counts())\n",
    "    # Plot top 15\n",
    "    plt.figure(figsize=(10,4))\n",
    "    df[f].value_counts()[0:15].plot(kind='bar')\n",
    "    plt.title(f)\n",
    "    plt.grid()\n",
    "    plt.show()"
   ]
  },
  {
   "cell_type": "code",
   "execution_count": 85,
   "metadata": {},
   "outputs": [
    {
     "data": {
      "image/png": "[encoded data removed]",
      "text/plain": [
       "<Figure size 432x288 with 1 Axes>"
      ]
     },
     "metadata": {
      "needs_background": "light"
     },
     "output_type": "display_data"
    }
   ],
   "source": [
    "df.title_len.hist();"
   ]
  },
  {
   "cell_type": "code",
   "execution_count": 86,
   "metadata": {},
   "outputs": [
    {
     "data": {
      "image/png": "[encoded data removed]",
      "text/plain": [
       "<Figure size 432x288 with 1 Axes>"
      ]
     },
     "metadata": {
      "needs_background": "light"
     },
     "output_type": "display_data"
    }
   ],
   "source": [
    "df.title_word_count.hist();"
   ]
  },
  {
   "cell_type": "code",
   "execution_count": 88,
   "metadata": {},
   "outputs": [
    {
     "data": {
      "image/png": "[encoded data removed]",
      "text/plain": [
       "<Figure size 432x288 with 1 Axes>"
      ]
     },
     "metadata": {
      "needs_background": "light"
     },
     "output_type": "display_data"
    }
   ],
   "source": [
    "plt.plot(df.title_len,df.title_word_count,'b+');"
   ]
  },
  {
   "cell_type": "code",
   "execution_count": 50,
   "metadata": {},
   "outputs": [
    {
     "data": {
      "image/png": "[encoded data removed]",
      "text/plain": [
       "<Figure size 1080x900 with 1 Axes>"
      ]
     },
     "metadata": {},
     "output_type": "display_data"
    }
   ],
   "source": [
    "# TOP 10 searches of 2020\n",
    "figure(figsize=(12, 10), dpi=90)\n",
    "df[df.date == 2020].title.value_counts()[:10].plot.pie();"
   ]
  },
  {
   "cell_type": "code",
   "execution_count": 79,
   "metadata": {},
   "outputs": [
    {
     "data": {
      "image/png": "[encoded data removed]",
      "text/plain": [
       "<Figure size 800x1280 with 1 Axes>"
      ]
     },
     "metadata": {},
     "output_type": "display_data"
    }
   ],
   "source": [
    "#TOP 10 seach title US\n",
    "figure(figsize=(10, 16), dpi=80)\n",
    "df[df.geo == 'US'].title.value_counts()[:10].plot.pie();"
   ]
  },
  {
   "cell_type": "code",
   "execution_count": 54,
   "metadata": {},
   "outputs": [
    {
     "data": {
      "image/png": "[encoded data removed]",
      "text/plain": [
       "<Figure size 1080x900 with 1 Axes>"
      ]
     },
     "metadata": {},
     "output_type": "display_data"
    }
   ],
   "source": [
    "# TOP 10 search in Kazakhstan\n",
    "figure(figsize=(12, 10), dpi=90)\n",
    "df[df.geo == 'KZ'].title.value_counts()[:10].plot.pie();"
   ]
  },
  {
   "cell_type": "code",
   "execution_count": 90,
   "metadata": {},
   "outputs": [
    {
     "data": {
      "image/png": "[encoded data removed]",
      "text/plain": [
       "<Figure size 720x360 with 2 Axes>"
      ]
     },
     "metadata": {
      "needs_background": "light"
     },
     "output_type": "display_data"
    }
   ],
   "source": [
    "corr = df.corr()\n",
    "mask = np.triu(np.ones_like(corr, dtype=bool))\n",
    "f, ax = plt.subplots(figsize=(10, 5))\n",
    "cmap = sns.diverging_palette(100, 20, as_cmap=True)\n",
    "sns.heatmap(corr, mask=mask, cmap=cmap, vmax=.5, center=0,\n",
    "            square=True, linewidths=.5, cbar_kws={\"shrink\": .5},annot=True);"
   ]
  },
  {
   "cell_type": "code",
   "execution_count": 74,
   "metadata": {},
   "outputs": [
    {
     "name": "stdout",
     "output_type": "stream",
     "text": [
      "['Facebook', 'Kobe Bryant', 'Donald Trump', 'Robin Williams', 'Zoom', 'Coronavirus', 'Avicii', 'Meghan Markle', 'Thanos', 'Google Classroom', 'Hotmail', 'iPhone 7', 'iPhone 8', 'Paul Walker', 'Pokemon Go', 'iPhone 5', 'YouTube', 'Stan Lee', 'Cameron Boyce', 'David Bowie', 'Euro 2016', 'Twitter', 'World Cup', 'iPhone 6', 'Copa América', 'Fortnite', 'Taringa', 'Joe Biden', 'Charlie Hebdo', 'Tour de France', 'Jennifer Lawrence', 'Ebola', 'Brexit', 'Notre Dame', 'Eurovision', 'Michael Jackson', 'Despacito', 'Amy Winehouse', 'Agario', 'Flappy Bird', 'Adele', 'Lady Gaga', 'Rugby World Cup', 'Prince', 'iPhone 11', 'US election', 'Joker', 'Claudio Bravo Camus', 'Olympics', 'iPhone X']\n"
     ]
    }
   ],
   "source": [
    "print(df['title'].value_counts()[0:50].index.tolist())"
   ]
  },
  {
   "cell_type": "code",
   "execution_count": null,
   "metadata": {},
   "outputs": [],
   "source": []
  }
 ],
 "metadata": {
  "kernelspec": {
   "display_name": "Python 3",
   "language": "python",
   "name": "python3"
  },
  "language_info": {
   "codemirror_mode": {
    "name": "ipython",
    "version": 3
   },
   "file_extension": ".py",
   "mimetype": "text/x-python",
   "name": "python",
   "nbconvert_exporter": "python",
   "pygments_lexer": "ipython3",
   "version": "3.7.6"
  }
 },
 "nbformat": 4,
 "nbformat_minor": 4
}
